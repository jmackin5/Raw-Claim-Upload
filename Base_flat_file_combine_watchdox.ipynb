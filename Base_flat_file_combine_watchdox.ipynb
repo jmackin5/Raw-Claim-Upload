{
 "cells": [
  {
   "cell_type": "code",
   "execution_count": 2,
   "metadata": {},
   "outputs": [],
   "source": [
    "###Importing the right packaages / aliasing / room folder look ups\n",
    "\n",
    "import pandas as pd\n",
    "from workspaces.workspaces import *\n",
    "import datetime as dt\n",
    "import os\n",
    "import csv\n",
    "import io\n",
    "import zipfile\n",
    "\n",
    "# Variables\n",
    "fp = 'C:/Users/JM/Documents/hi-data-upload-utility-1.6/bin/Test_files/Processed/'\n",
    "date = dt.date.today()\n",
    "file_release = dt.datetime.strftime(date,'%Y-%m-%d')\n",
    "w = Workspaces()\n",
    "\n",
    "afile = [] \n",
    "bifile = []\n",
    "bpfile = [] \n",
    "\n",
    "def claim_combine(file):\n",
    "    if ('~ST*835' in file) and ('ISA*' in file):\n",
    "        afile.append(file)\n",
    "    elif ('~ST*837' in file) and ('ISA*' in file) and ('005010X222A1' not in file):\n",
    "        bifile.append(file)\n",
    "    elif ('~ST*837' in file) and ('ISA*' in file) and ('005010X222A1' in file):\n",
    "        bpfile.append(file)\n",
    "    else:\n",
    "        print('not a claim')\n",
    "\n",
    "def claim_clean(file):\n",
    "    file = [w.replace('!','*') for w in file]\n",
    "    file = [w.replace('\\\\|',':') for w in file]\n",
    "    file = [w.replace('>',':') for w in file]\n",
    "    file = [w.replace('[\\r\\n]',' ') for w in file]\n",
    "    return file\n",
    "\n",
    "\n"
   ]
  },
  {
   "cell_type": "code",
   "execution_count": 3,
   "metadata": {},
   "outputs": [
    {
     "name": "stdout",
     "output_type": "stream",
     "text": [
      "                                   guid                             file_name  \\\n",
      "0  7a7ff19c-97e4-4324-8306-8ff9d136136c                                test_3   \n",
      "1  6bfb4a6f-28a9-43bb-a10c-e2a6c7159801  86662349-7a0b-47ae-a18a-564f8a43a15c   \n",
      "2  423226da-afc5-443e-bf54-60a7d046738b  b6802573-eaa1-4ed3-b286-78d1b5d5b751   \n",
      "3  8b033353-4162-4efa-88d2-28641eddbb70  aaf9adae-0816-4b96-b171-435f1d08e2f9   \n",
      "4  2eb8f25e-5f94-424a-8795-8ca0c238edd5                      Unadj File 5.zip   \n",
      "\n",
      "                     sender        date_of_submission  \\\n",
      "0  ethelen@millenniumcc.org  2020-05-15T11:31:57-0400   \n",
      "1  ethelen@millenniumcc.org  2020-05-15T11:50:52-0400   \n",
      "2  ethelen@millenniumcc.org  2020-05-15T11:50:54-0400   \n",
      "3  ethelen@millenniumcc.org  2020-05-15T11:50:56-0400   \n",
      "4  pgagnon@millenniumcc.org  2020-05-26T13:42:56-0400   \n",
      "\n",
      "          modification_date file_type  \n",
      "0  2020-05-15T11:31:57-0400            \n",
      "1  2020-05-15T11:50:52-0400            \n",
      "2  2020-05-15T11:50:54-0400            \n",
      "3  2020-05-15T11:50:56-0400            \n",
      "4  2020-05-26T13:42:56-0400       zip  \n"
     ]
    }
   ],
   "source": [
    "### test file discovery \n",
    "## set this cell to whatever folder you are checking for newfiles\n",
    "get_rooms = w.get_rooms()\n",
    "room_info = w.get_room_info(350519)\n",
    "test_room_room_folders = w.get_room_folders(350519)\n",
    "##test_room_room_folders['subFolders'][1]['subFolders']\n",
    "\n",
    "#test_837 newfiles folderid = 5482329, masterfolder = 5482328, processed =5482327\n",
    "doc = w.get_documents(room_id = 350519,\n",
    "                        folder_id = 5482329) ##test 837s new files folder\n",
    "doc = pd.DataFrame(doc)\n",
    "\n",
    "if len(doc) == 0:\n",
    "    print('folder is empty on '+ str(file_release))\n",
    "    exit()\n",
    "else:\n",
    "    print(doc)"
   ]
  },
  {
   "cell_type": "code",
   "execution_count": 4,
   "metadata": {},
   "outputs": [
    {
     "data": {
      "text/plain": [
       "<Response [200]>"
      ]
     },
     "execution_count": 4,
     "metadata": {},
     "output_type": "execute_result"
    }
   ],
   "source": [
    "##creating a new folder in processed(file release folder)\n",
    "os.mkdir(fp+str(file_release))\n",
    "w.create_folder(folder_id=5482327,\n",
    "                room_id=350519,\n",
    "                new_folder_name=str(file_release))\n"
   ]
  },
  {
   "cell_type": "code",
   "execution_count": 5,
   "metadata": {},
   "outputs": [
    {
     "name": "stdout",
     "output_type": "stream",
     "text": [
      "837s/Processed/2020-06-05\n",
      "5604807\n"
     ]
    }
   ],
   "source": [
    "## figuring out the file path for that new folder so we can send the processed files correct release folder\n",
    "test_room_room_folders = w.get_room_folders(350519)\n",
    "for i in test_room_room_folders['subFolders']:\n",
    "    if i['name'] == '837s':\n",
    "        temp = i['subFolders']\n",
    "        for x in temp:\n",
    "            if x['name'] == 'Processed':\n",
    "                temp_2 = x['subFolders']\n",
    "                for y in temp_2:\n",
    "                    if y['name'] == str(file_release):\n",
    "                        processed_file_release_path = y['fullPath']\n",
    "                        processed_file_release_id = y['id']\n",
    "                \n",
    "print(processed_file_release_path)\n",
    "print(processed_file_release_id)\n",
    "\n",
    "###test_room_room_folders['subFolders'][1]['subFolders'][2]"
   ]
  },
  {
   "cell_type": "code",
   "execution_count": 6,
   "metadata": {},
   "outputs": [
    {
     "name": "stdout",
     "output_type": "stream",
     "text": [
      "reg file\n",
      "reg file\n",
      "reg file\n",
      "reg file\n",
      "zip file\n"
     ]
    }
   ],
   "source": [
    "#gathering files in the foler // combining all claims into one and moving original files into processed folder\n",
    "\n",
    "for index, row in doc.iterrows():\n",
    "    if row['file_type'] == 'zip':\n",
    "        zip_document = w.download_document(row['guid'])\n",
    "        zip_bytes = io.BytesIO(zip_document)\n",
    "        myzipfile = zipfile.ZipFile(zip_bytes)\n",
    "        for name in myzipfile.namelist():\n",
    "            foofile = myzipfile.open(name).read().decode(\"ascii\")\n",
    "            claim_combine(foofile)\n",
    "            desktop_process = open(fp+ str(file_release)+ '/'+ name+ '.txt', 'w')\n",
    "            desktop_process.write(foofile)\n",
    "            desktop_process.close()\n",
    "        print('zip file')\n",
    "        ##w.move_document(room_id=350519, document_id=row['guid'], folder_path='837s/Processed')\n",
    "        w.move_document(room_id=350519, document_id=row['guid'], folder_path=processed_file_release_path)\n",
    "    else:\n",
    "        reg_file = w.download_document(row['guid']).decode(\"ascii\")\n",
    "        desktop_process_1 = open(fp+ str(file_release)+ '/'+ row['file_name']+ '.txt', 'w')\n",
    "        desktop_process_1.write(reg_file)\n",
    "        desktop_process_1.close()\n",
    "        claim_combine(reg_file)\n",
    "        print('reg file')\n",
    "        ##w.move_document(room_id=350519, document_id=row['guid'], folder_path='837s/Processed')\n",
    "        w.move_document(room_id=350519, document_id=row['guid'], folder_path=processed_file_release_path)\n",
    "        \n",
    "    \n",
    "\n"
   ]
  },
  {
   "cell_type": "code",
   "execution_count": 7,
   "metadata": {},
   "outputs": [
    {
     "name": "stdout",
     "output_type": "stream",
     "text": [
      "Bp file is empty\n",
      "Afile is empty\n"
     ]
    },
    {
     "data": {
      "text/plain": [
       "<Response [401]>"
      ]
     },
     "execution_count": 7,
     "metadata": {},
     "output_type": "execute_result"
    }
   ],
   "source": [
    "##Taking the combined file lists and creating one single file and moving it to master bin folder\n",
    "## create file path for strings and add in room numbers to settings file \n",
    "\n",
    "afile = claim_clean(afile)\n",
    "bifile = claim_clean(bifile)\n",
    "bpfile= claim_clean(bpfile)\n",
    "\n",
    "if len(bifile) >= 1:\n",
    "    with open('C:\\\\Users\\\\JM\\\\Documents\\\\hi-data-upload-utility-1.6\\\\bin\\\\Test_files\\\\'+'Master_bi'+file_release, 'w' ) as f:\n",
    "        for i in bifile:\n",
    "            f.write(str(i))\n",
    "else:\n",
    "    print('Bi file is empty')\n",
    "      \n",
    "if len(bpfile) >= 1:\n",
    "    with open('C:\\\\Users\\\\JM\\\\Documents\\\\hi-data-upload-utility-1.6\\\\bin\\\\Test_files\\\\'+'Master_bp'+file_release, 'w' ) as f:\n",
    "        for i in bpfile:\n",
    "            f.write(str(i))\n",
    "            \n",
    "else:\n",
    "    print('Bp file is empty')\n",
    "    \n",
    "if len(afile) >= 1:\n",
    "    with open('C:\\\\Users\\\\JM\\\\Documents\\\\hi-data-upload-utility-1.6\\\\bin\\\\Test_files\\\\'+'Master_a'+file_release, 'w' ) as f:\n",
    "        for i in bifile:\n",
    "            f.write(str(i))\n",
    "            \n",
    "else:\n",
    "    print('Afile is empty')\n",
    "    \n",
    "w.session_logout()"
   ]
  },
  {
   "cell_type": "code",
   "execution_count": null,
   "metadata": {},
   "outputs": [],
   "source": [
    "import hiduu.hiduu as h\n",
    "import datetime as dt\n",
    "\n",
    "# Variables\n",
    "##fp = '/Documents/hi-data-upload-utility-1.6/bin/Files/OUA'\n",
    "date = dt.date.today()\n",
    "file_release = dt.datetime.strftime(date,'%Y%m%d')\n",
    "\n",
    "# h.hiduu_upload_win(hiduu_path = HIDUU_PATH,\n",
    "#                      upload_command = 'uploadDataSetFile',\n",
    "#                      system_account_id = vertica_sys_acct_id,\n",
    "#                      system_account_secret = vetted_system_secret,\n",
    "#                      source_id = vertica_sync_id,\n",
    "#                      data_set_id = FILE_NAME6,\n",
    "#                      file_id = file_type_id,\n",
    "#                      file_release = file_release,\n",
    "#                      spec_version = sv,\n",
    "#                      file = None)\n",
    "\n",
    "h.hiduu_upload_win()"
   ]
  }
 ],
 "metadata": {
  "kernelspec": {
   "display_name": "Python 3",
   "language": "python",
   "name": "python3"
  },
  "language_info": {
   "codemirror_mode": {
    "name": "ipython",
    "version": 3
   },
   "file_extension": ".py",
   "mimetype": "text/x-python",
   "name": "python",
   "nbconvert_exporter": "python",
   "pygments_lexer": "ipython3",
   "version": "3.7.3"
  }
 },
 "nbformat": 4,
 "nbformat_minor": 4
}
